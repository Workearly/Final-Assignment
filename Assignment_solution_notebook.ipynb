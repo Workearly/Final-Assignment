{
 "cells": [
  {
   "cell_type": "code",
   "execution_count": 1,
   "metadata": {},
   "outputs": [
    {
     "name": "stderr",
     "output_type": "stream",
     "text": [
      "Matplotlib is building the font cache; this may take a moment.\n"
     ]
    }
   ],
   "source": [
    "import numpy as np, pandas as pd\n"
   ]
  },
  {
   "cell_type": "code",
   "execution_count": 2,
   "metadata": {},
   "outputs": [],
   "source": [
    "data=pd.DataFrame(pd.read_csv('/home/lampros/Desktop/git/Final-Assignment/Final-Assignment-Answers/booze.csv'))\n",
    "data1=data.copy(True)"
   ]
  },
  {
   "cell_type": "code",
   "execution_count": 3,
   "metadata": {},
   "outputs": [],
   "source": [
    "temp1=data1.get(['zip_code','store_name','category_name','bottles_sold'])"
   ]
  },
  {
   "cell_type": "code",
   "execution_count": 4,
   "metadata": {},
   "outputs": [],
   "source": [
    "temp1=temp1.sort_values(by=['bottles_sold'],ascending=False)"
   ]
  },
  {
   "cell_type": "code",
   "execution_count": 5,
   "metadata": {},
   "outputs": [],
   "source": [
    "per_zip=temp1.drop_duplicates(subset='zip_code')"
   ]
  },
  {
   "cell_type": "code",
   "execution_count": 8,
   "metadata": {},
   "outputs": [],
   "source": [
    "store_total=(temp1.sort_values(by='store_name'))\n",
    "temp2=store_total.set_index('store_name')\n",
    "temp3=store_total.drop_duplicates(subset='store_name');names=temp3.iloc[:,1]\n",
    "dic=pd.DataFrame(columns=['total','percentage'],index=names)\n",
    "for store in names[:]:\n",
    "    a=(temp2.loc[store,'bottles_sold'])\n",
    "    \n",
    "    if type(a)!=pd.Series:\n",
    "        dic.loc[store,'total']=a\n",
    "    else:\n",
    "        dic.loc[store,'total']=sum(a)\n"
   ]
  },
  {
   "cell_type": "code",
   "execution_count": 53,
   "metadata": {},
   "outputs": [],
   "source": [
    "per_zip_new=per_zip.dropna()\n",
    "per_zip_new=per_zip_new.merge(right=dic,left_on='store_name',right_on=dic.index)\n",
    "per_zip_new['percentage']=per_zip_new['total']/sum(per_zip_new.get('total'))*100"
   ]
  },
  {
   "cell_type": "code",
   "execution_count": 11,
   "metadata": {},
   "outputs": [],
   "source": [
    "new_csv=per_zip_new.to_csv('final_csv')"
   ]
  },
  {
   "cell_type": "code",
   "execution_count": null,
   "metadata": {},
   "outputs": [],
   "source": [
    "import matplotlib.pyplot as plt\n",
    "plot1=plt.plot(per_zip_new['zip_code'],per_zip_new['bottles_sold'],'o')\n",
    "plt.title('Most popular item sold per zip-code')\n",
    "plt.xlabel('Zip_codes')\n",
    "plt.ylabel('Number of bottles sold')\n",
    "plt.show()"
   ]
  },
  {
   "cell_type": "code",
   "execution_count": null,
   "metadata": {},
   "outputs": [],
   "source": [
    "import matplotlib.pyplot as plt\n",
    "from matplotlib import ticker\n",
    "per_zip_new=per_zip_new.sort_values(by='percentage',ascending=True)\n",
    "plot2=plt.barh(per_zip_new['store_name'],per_zip_new['percentage'])\n",
    "plt.title('Percentage of stores\\' sales out of total sales')\n",
    "plt.xlabel('Percentage')\n",
    "plt.ylabel('Stores')\n",
    "plt.show()"
   ]
  }
 ],
 "metadata": {
  "kernelspec": {
   "display_name": "Python 3.10.6 ('dataenv')",
   "language": "python",
   "name": "python3"
  },
  "language_info": {
   "codemirror_mode": {
    "name": "ipython",
    "version": 3
   },
   "file_extension": ".py",
   "mimetype": "text/x-python",
   "name": "python",
   "nbconvert_exporter": "python",
   "pygments_lexer": "ipython3",
   "version": "3.10.6"
  },
  "orig_nbformat": 4,
  "vscode": {
   "interpreter": {
    "hash": "0af086dde17faf73389197b1245c24daca1f51df388fefe03ceaf9f55e6322a1"
   }
  }
 },
 "nbformat": 4,
 "nbformat_minor": 2
}
